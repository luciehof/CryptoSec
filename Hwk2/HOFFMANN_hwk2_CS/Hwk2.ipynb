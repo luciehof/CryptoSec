{
 "cells": [
  {
   "cell_type": "markdown",
   "metadata": {},
   "source": [
    "# Ex 1"
   ]
  },
  {
   "cell_type": "markdown",
   "metadata": {},
   "source": [
    "We observe that the sh-th Fibonacci number after pk_1 is equal to F_(sk+1)\\*pk_1 + F_sk\\*pk_2 where F_i is the i-th Fibonacci number. To find F_(sk+1) and F_(sk), we can use the matrix form of Fibonacci numbers and do a modular sk-exponentiation on this matrix."
   ]
  },
  {
   "cell_type": "code",
   "execution_count": 238,
   "metadata": {},
   "outputs": [],
   "source": [
    "def KeyAgreement(pk, sk):\n",
    "    pk_1 = pk[0]\n",
    "    pk_2 = pk[1]\n",
    "    p = pk[2]\n",
    "    \n",
    "    # matrix form\n",
    "    M = matrix([[1,1],[1,0]])\n",
    "    M_sk = power_mod(M,sk,p)\n",
    "    \n",
    "    # M_sk corresponds to [[F_(sk+1),F_sk],[F_sk,F_(sk-1)]] mod p\n",
    "    # We extract F_(sk+1) and F_(sk) to compute  F_(sk+1)*pk_1 + F_sk*pk_2\n",
    "    tmp1 = mod(M_sk[0][0]*pk_1,p)\n",
    "    tmp2 = mod(M_sk[0][1]*pk_2,p)\n",
    "    \n",
    "    return mod(tmp1+tmp2,p)"
   ]
  },
  {
   "cell_type": "code",
   "execution_count": 241,
   "metadata": {},
   "outputs": [],
   "source": [
    "Q1_pkb = [68910103607139074619233638735136130348650279779551, 437976633712782333028420861813109612570972216180558, 440024756946224539785983905910262813912044132851283]\n",
    "Q1_sk = 2194811192704907032837393"
   ]
  },
  {
   "cell_type": "code",
   "execution_count": 243,
   "metadata": {},
   "outputs": [
    {
     "data": {
      "text/plain": [
       "150871064308278946611808338736527077866383827102946"
      ]
     },
     "execution_count": 243,
     "metadata": {},
     "output_type": "execute_result"
    }
   ],
   "source": [
    "KeyAgreement(Q1_pkb, Q1_sk)"
   ]
  },
  {
   "cell_type": "markdown",
   "metadata": {},
   "source": [
    "# Ex 2"
   ]
  },
  {
   "cell_type": "code",
   "execution_count": 244,
   "metadata": {},
   "outputs": [],
   "source": [
    "def decryptSlovak(ct,k):\n",
    "    n_cols = len(k)\n",
    "    n_rows = len(ct)//n_cols\n",
    "    pt = [' ' for i in range(len(ct))]\n",
    "    \n",
    "    for j in range(n_cols):\n",
    "        for i in range(n_rows):\n",
    "            pt[i*n_cols + k.index(j+1)] = ct[j*n_rows + i]\n",
    "    return ''.join(pt)"
   ]
  },
  {
   "cell_type": "code",
   "execution_count": 245,
   "metadata": {},
   "outputs": [],
   "source": [
    "def remove_pad(pt,pad):\n",
    "    \n",
    "    pt_pad_free = ''\n",
    "    idx=len(pt)-1\n",
    "    while (idx>=0 and pt[idx]==pad):\n",
    "        idx-=1\n",
    "        \n",
    "    for str_idx in range(idx+1):\n",
    "        pt_pad_free += pt[str_idx]\n",
    "    \n",
    "    return pt_pad_free"
   ]
  },
  {
   "cell_type": "code",
   "execution_count": 249,
   "metadata": {},
   "outputs": [],
   "source": [
    "import base64\n",
    "\n",
    "def decrypt_transposition(kI, kII, ct):\n",
    "    \n",
    "    col_lenI = len(ct)//len(kI)\n",
    "    col_lenII = len(ct)//len(kII)\n",
    "    \n",
    "    for N in range(lcm(len(kI),len(kII))):\n",
    "\n",
    "        ### process to get ct_1\n",
    "        rot_kII = kII[-mod(N,len(kII)):] + kII[:-mod(N,len(kII))]\n",
    "        \n",
    "        ct1 = decryptSlovak(ct,rot_kII)\n",
    "                \n",
    "        ### process to get pt_64\n",
    "        rot_kI = kI[-mod(N,len(kI)):] + kI[:-mod(N,len(kI))]\n",
    "        \n",
    "        pt64 = remove_pad(decryptSlovak(ct1,rot_kI),' ')\n",
    "        \n",
    "        ### decode pt64\n",
    "        try: \n",
    "            # decode pt64 encoded in base64\n",
    "            pt_ascii = base64.b64decode(pt64)\n",
    "            # decode pt_ascii encoded in ascii\n",
    "            pt = pt_ascii.decode('ascii')\n",
    "            print (pt)\n",
    "        except:\n",
    "            print('-')"
   ]
  },
  {
   "cell_type": "code",
   "execution_count": 250,
   "metadata": {},
   "outputs": [],
   "source": [
    "Q2_I=[2, 11, 9, 13, 4, 14, 8, 3, 7, 10, 5, 1, 12, 6]\n",
    "Q2_II=[6, 7, 3, 1, 2, 4, 5]\n",
    "Q2_ct=\"cVGaE2vUgG ld9mnlb13hVBv3IH5y2Je3sbBZbgQh GZGniG9b uchcg Iy2cRkmG IVlalc9GIBwjQ E0mTNZm9 wYzh GGIGmGS1bhuI5bl3cWvplz ulbBZ2Bd \""
   ]
  },
  {
   "cell_type": "code",
   "execution_count": 251,
   "metadata": {
    "scrolled": true
   },
   "outputs": [
    {
     "name": "stdout",
     "output_type": "stream",
     "text": [
      "-\n",
      "-\n",
      "-\n",
      "-\n",
      "-\n",
      "Offspring most loathsome of Hypocrisy And tongues thrice dipped in hell. Contagion foul\n",
      "-\n",
      "-\n",
      "-\n",
      "-\n",
      "-\n",
      "-\n",
      "-\n",
      "-\n"
     ]
    }
   ],
   "source": [
    "decrypt_transposition(Q2_I, Q2_II, Q2_ct)"
   ]
  },
  {
   "cell_type": "markdown",
   "metadata": {},
   "source": [
    "# Ex 3"
   ]
  },
  {
   "cell_type": "markdown",
   "metadata": {},
   "source": [
    "## Part a"
   ]
  },
  {
   "cell_type": "code",
   "execution_count": 252,
   "metadata": {},
   "outputs": [],
   "source": [
    "def decryptSlovak_2(ct,k):\n",
    "    n_cols = len(k)\n",
    "    n_rows = len(ct)//n_cols\n",
    "    pt = [' ' for i in range(len(ct))]\n",
    "    \n",
    "    for j in range(n_cols):\n",
    "        line = []\n",
    "        for i in range(n_rows):\n",
    "            pt[i*n_cols + j] = ct[k.index(j)*n_rows + i]\n",
    "    return ''.join(pt)"
   ]
  },
  {
   "cell_type": "code",
   "execution_count": 253,
   "metadata": {},
   "outputs": [],
   "source": [
    "def inv_phi(U,V,S):\n",
    "    C = ['A','D','F','G','V','X']\n",
    "    i = C.index(U)\n",
    "    j = C.index(V)\n",
    "    n_cols = 6\n",
    "    return S[i*n_cols+j]"
   ]
  },
  {
   "cell_type": "code",
   "execution_count": 259,
   "metadata": {},
   "outputs": [],
   "source": [
    "def decrypt3a(y,S,c,s,n):\n",
    "    y_1 = decryptSlovak_2(y,list(s))\n",
    "\n",
    "    # inverse substitution (unpadded length is 2*n)\n",
    "    p = ''\n",
    "    for i in range(0,2*n,2):\n",
    "        U = y_1[i]\n",
    "        V = y_1[i+1]\n",
    "        p += inv_phi(U,V,S)\n",
    "    \n",
    "    return p"
   ]
  },
  {
   "cell_type": "code",
   "execution_count": 260,
   "metadata": {},
   "outputs": [],
   "source": [
    "Q3a_y=\"DXDGVDFAVDDVAFDVVDVFFDFDDAFDDVGXFAX\"\n",
    "Q3a_S='IFWNV15SETL7J8ZQUY4XDMPG2KA0HR9C36BO'\n",
    "Q3a_c=\"D\"\n",
    "Q3a_s=(2, 4, 6, 3, 5, 0, 1)\n",
    "Q3a_n=16"
   ]
  },
  {
   "cell_type": "code",
   "execution_count": 261,
   "metadata": {},
   "outputs": [
    {
     "data": {
      "text/plain": [
       "'NLEEOALESWFNHERA'"
      ]
     },
     "execution_count": 261,
     "metadata": {},
     "output_type": "execute_result"
    }
   ],
   "source": [
    "decrypt3a(Q3a_y,Q3a_S,Q3a_c,Q3a_s,Q3a_n)"
   ]
  },
  {
   "cell_type": "markdown",
   "metadata": {},
   "source": [
    "## Part b"
   ]
  },
  {
   "cell_type": "code",
   "execution_count": 262,
   "metadata": {},
   "outputs": [],
   "source": [
    "def encryptSlovak(pt,k,c):\n",
    "    n_cols = len(k)\n",
    "    n_rows = ceil(len(pt)/n_cols)\n",
    "    ct = ['' for i in range(n_cols*n_rows)]\n",
    "    \n",
    "    for j in range(n_cols):\n",
    "        line = []\n",
    "        for i in range(n_rows):\n",
    "            pt_idx = i*n_cols + k[j]\n",
    "            if (pt_idx>=len(pt)):\n",
    "                ct[j*n_rows + i] = c\n",
    "            else:\n",
    "                ct[j*n_rows + i] = pt[pt_idx]\n",
    "\n",
    "    return ''.join(ct)"
   ]
  },
  {
   "cell_type": "code",
   "execution_count": 263,
   "metadata": {},
   "outputs": [],
   "source": [
    "def phi(x,S):\n",
    "    C = ['A','D','F','G','V','X']\n",
    "    n_cols = 6\n",
    "    idx = S.index(x)\n",
    "    j = idx%n_cols\n",
    "    i = (idx - j) / n_cols\n",
    "    return (C[i],C[j])"
   ]
  },
  {
   "cell_type": "code",
   "execution_count": 264,
   "metadata": {},
   "outputs": [],
   "source": [
    "import string\n",
    "\n",
    "P = string.punctuation + string.whitespace\n",
    "\n",
    "def encrypt3b(x,S,c,s):\n",
    "\n",
    "    # substitution\n",
    "    y_sub = ''\n",
    "    for i in range(len(x)):\n",
    "        if (P.find(x[i]) != -1):\n",
    "            y_sub += x[i]+x[i]\n",
    "        else:\n",
    "            (U,V) = phi(x[i],S)\n",
    "            y_sub += U+V\n",
    "    \n",
    "    # permutation\n",
    "    y_perm = encryptSlovak(y_sub,list(s),c)\n",
    "    \n",
    "    return y_perm"
   ]
  },
  {
   "cell_type": "code",
   "execution_count": 265,
   "metadata": {},
   "outputs": [],
   "source": [
    "Q3b_x=\"WELCOME TO THE BONFIRE, UNKINDLED ONE. I AM A FIRE KEEPER. I TEND TO THE FLAME, AND TEND TO THEE. THE LORDS HAVE LEFT THEIR THRONES, AND MUST BE DELIVER'D TO THEM. TO THIS END, I AM AT THY SIDE.\"\n",
    "Q3b_S='NWZQJ1MIH3R2S5GL86EUCYFTP9A4DO7BXVK0'\n",
    "Q3b_c=\"V\"\n",
    "Q3b_s=(0, 1, 4, 3, 12, 10, 8, 5, 11, 9, 2, 7, 6)"
   ]
  },
  {
   "cell_type": "code",
   "execution_count": 266,
   "metadata": {},
   "outputs": [
    {
     "data": {
      "text/plain": [
       "\"AAGDXVD G  A,X  DG  F GGV.D,V D ADV DGAD  ,G GVG GADAGX D FFFXXAAXVDV VVVADFF DF DVVGX D DAG GDV DA XG AXDV XD,G D GADXDGFDAV  V VGAGX XXX A DXX.F,  VDXGDG.V .ADA X.GVVDAV D DXVAG.V A FA ADAGFV G DADXAXFVG AFDAGVD,AAFDAGXFFVFGAFFD FV'XV   VADVAA FX.VFG V.VFGVGVXDGADV GVXGAGG.  VAXDVGAFFGDAA G AGADF.G  VD  VGDG  AGXVAGX,A A  F GAF X VGAGAG VA A  GAVFGAVF AVXGGXV,VADVGX GAVGA GGVVAG'DXG GV\""
      ]
     },
     "execution_count": 266,
     "metadata": {},
     "output_type": "execute_result"
    }
   ],
   "source": [
    "encrypt3b(Q3b_x,Q3b_S,Q3b_c,Q3b_s)"
   ]
  },
  {
   "cell_type": "markdown",
   "metadata": {},
   "source": [
    "## Part c"
   ]
  },
  {
   "cell_type": "code",
   "execution_count": 284,
   "metadata": {},
   "outputs": [],
   "source": [
    "P = string.punctuation + string.whitespace\n",
    "\n",
    "def inv_phi_extend(U,V,S):\n",
    "    if (P.find(U)!=-1 or P.find(V)!=-1):\n",
    "        return U\n",
    "    else:\n",
    "        C = ['A','D','F','G','V','X']\n",
    "        i = C.index(U)\n",
    "        j = C.index(V)\n",
    "        n_cols = 6\n",
    "        return S[i*n_cols+j]"
   ]
  },
  {
   "cell_type": "code",
   "execution_count": 285,
   "metadata": {},
   "outputs": [],
   "source": [
    "def decrypt3c(y,S,c,s,n):\n",
    "    y_1 = decryptSlovak_2(y,list(s))\n",
    "\n",
    "    # inverse substitution (unpadded length is 2*n)\n",
    "    p = ''\n",
    "    for i in range(0,2*n,2):\n",
    "        U = y_1[i]\n",
    "        V = y_1[i+1]\n",
    "        p += inv_phi_extend(U,V,S)\n",
    "    \n",
    "    return p"
   ]
  },
  {
   "cell_type": "code",
   "execution_count": 292,
   "metadata": {},
   "outputs": [],
   "source": [
    "import itertools\n",
    "from difflib import SequenceMatcher\n",
    "\n",
    "def find_permutation(pt,ct,incomplete_S,c):\n",
    "    n = len(pt)\n",
    "    for l in range(2,7):\n",
    "        for s in itertools.permutations([i for i in range(l)]):\n",
    "            res = decrypt3c(ct,incomplete_S.replace('\\x00','*'),c,s,n)\n",
    "            if (SequenceMatcher(None, res, pt).ratio()>0.3):\n",
    "                print (res)\n",
    "                print (s)\n",
    "                print ('----------')"
   ]
  },
  {
   "cell_type": "code",
   "execution_count": 293,
   "metadata": {},
   "outputs": [],
   "source": [
    "Q3c_x0=\"OBI-WAN: IT'S OVER, ANAKIN! I HAVE THE HIGH GROUND! ANAKIN SKYWALKER: YOU UNDERESTIMATE MY POWER! OBI-WAN: DON'T TRY IT.\"\n",
    "Q3c_y0=\"FDGD: X' FAF DAAG!D AX GA DX XAAX!ADGD DDFGAF:DF AXGADDFXGXVFFAF FD-AD VG' GD X.AX-FG:DGX XG, GDDD DVDA VGVDV FFGV DAAG GVAXAF VX GVFGXDAG F VGG! FDGD: ADX FVDGFD-AD D'DAXF,ADGD!  DXGXD DVDVFXD! GDDDXAGDGG: AAXDAFXGXDA D AFF!AX-FG:XF'GXF D.\"\n",
    "Q3c_y1=\" XGXXDA VFDDA AXVVVD, AFAFD.. X X  VFDX V DXG AF FFG DAGXDFD DFDDD FAFA DVADFDA,VDA ADXDDFVDXGXDXFD VDGD GA XD XGDXD GFDA.XADD GA AGGG FFG DDG FGDAVXFXGAXXGFG VAD G GA XVFGX GGXDA ADAD GA ADV XD, G FFFG DAG DAGADGDV GFVDFFAFXFXGXFD G GGFGFXGG. XFXG X GA XVFGX DDXGF VGXD VDDAD XDDFDADVFA FFFVVG DAFVD, XDAVADAFXD DAXG GDX VD GG AX DF AFGGAD FXGFGVFAVX A VGVDAA....A AD GXGAX D DVDAA FF,VD DAV..DGDDA AFAVAFFDDXGD. AXG FDADDV, XFGDV FF DVDXG XXG DXGGF GAD FFD XFGFVAXDDX VGAXG AXFGF XVFG VFDV VGFDXX, AXG FDX ADVG G DAD DFFX GDX A VGAFDF'DXXDFXGGGFF, VGXGXDXGF,ADAFAFX FDA XDDF FXDADXX VGG G VXGAVADADDF VADX.FAXAX D VGAFDF'DXDDDAFAXGG, FDFGX AD FFG DXGAXAF DF XDXDF,FAXFDD F GA XFADFXGDXDX ADXDA AFFGFX DX ADAF FAGAFXFXD XGDD...DGFV DF DA G  XGDD AF FF GD.. D D DFGDF F GXD FF.FGAXXVFGVDX,XGDAGXVFX  DXVG AD, AX FG VGF DFX DGAF DADXGXD GDXVDAGDGAFDF. XFGXXD XXGA,FGAXXVADXDAXX A XGG AGAGFXGDXFXD GFDA' AXDAG FAVG,XD VAG DAF D DXFAVXVFGXGXDG DG GAAV AFF A ADFF D GXDA GDAG VFDAVFVXD GFDA' DGDXG DADX,FFGGXDGGA AGX AF DADX AFXGFDDV GXGXDG V VGXGGG VAD GAGFD DXGVG VAVA GVFGXFA FGXF G GA AXVV...\"\n",
    "Q3c_S='9AOEZ38\\x002Q\\x0071J\\x00\\x00\\x00\\x00\\x00N\\x0040L\\x00\\x00\\x0065\\x00\\x00\\x00M\\x00\\x00\\x00'\n",
    "Q3c_c=\"V\"\n",
    "Q3c_H=\"9c95c7e362b26c49cf5a45909e4c7b57\""
   ]
  },
  {
   "cell_type": "code",
   "execution_count": 294,
   "metadata": {},
   "outputs": [
    {
     "name": "stdout",
     "output_type": "stream",
     "text": [
      "O**-*AN: **'* O*E*, ANA**N! * *A*E **E **** **O*N*! ANA**N ****AL*E*: *O* *N*E*E***MA*E M* *O*E*! O**-*AN: *ON'* *** **.\n",
      "(2, 0, 1)\n",
      "----------\n"
     ]
    }
   ],
   "source": [
    "find_permutation(Q3c_x0,Q3c_y0,Q3c_S,Q3c_c)"
   ]
  },
  {
   "cell_type": "code",
   "execution_count": 295,
   "metadata": {},
   "outputs": [],
   "source": [
    "def find_S(pt,ct,incomplete_S,s,c):\n",
    "    C = ['A','D','F','G','V','X']\n",
    "    n = len(pt)\n",
    "    initial_S = incomplete_S.replace('\\x00','*')\n",
    "    S = [initial_S[i] for i in range(len(incomplete_S))]\n",
    "    ct_1 = decryptSlovak_2(ct,list(s))\n",
    "\n",
    "    for i in range(0,2*n,2):\n",
    "        U = ct_1[i]\n",
    "        V = ct_1[i+1]\n",
    "        if (P.find(U)!=-1 or P.find(V)!=-1):\n",
    "            if (V!=U):\n",
    "                return -1\n",
    "        elif S[C.index(U)*6+C.index(V)] == '*':\n",
    "            S[C.index(U)*6+C.index(V)] = pt[i//2]\n",
    "    \n",
    "    return ''.join(S)"
   ]
  },
  {
   "cell_type": "code",
   "execution_count": 296,
   "metadata": {},
   "outputs": [
    {
     "data": {
      "text/plain": [
       "'9AOEZ38I2QY71JR*PBKNW40L*H*65GUSMTDV'"
      ]
     },
     "execution_count": 296,
     "metadata": {},
     "output_type": "execute_result"
    }
   ],
   "source": [
    "find_S(Q3c_x0,Q3c_y0,Q3c_S,(2, 0, 1),Q3c_c)"
   ]
  },
  {
   "cell_type": "code",
   "execution_count": 297,
   "metadata": {},
   "outputs": [
    {
     "data": {
      "text/plain": [
       "\"A LONG TIME AGO IN A GALA*Y *AR, *AR AWAY... IT IS A PERIOD O* *IVIL WAR. REBEL SPA*ESHIPS, STRIKING *ROM A HIDDEN BASE, HAVE WON THEIR *IRST VI*TORY AGAINST THE EVIL GALA*TI* EMPIRE. DURING THE BATTLE, REBEL SPIES MANAGED TO STEAL SE*RET PLANS TO THE EMPIRE'S ULTIMATE WEAPON, THE DEATH STAR, AN ARMORED SPA*E STATION WITH ENOUGH POWER TO DESTROY AN ENTIRE PLANET. PURSUED BY THE EMPIRE'S SINISTER AGENTS, PRIN*ESS LEIA RA*ES HOME ABOARD HER STARSHIP, *USTODIAN O* THE STOLEN PLANS THAT *AN SAVE HER PEOPLE AND RESTORE *REEDOM TO THE GALA*Y.....\""
      ]
     },
     "execution_count": 297,
     "metadata": {},
     "output_type": "execute_result"
    }
   ],
   "source": [
    "decrypt3c(Q3c_y1,'9AOEZ38I2QY71JR*PBKNW40L*H*65GUSMTDV',Q3c_c,(2, 0, 1),len(Q3c_y1)//2)"
   ]
  },
  {
   "cell_type": "code",
   "execution_count": 303,
   "metadata": {},
   "outputs": [
    {
     "name": "stdout",
     "output_type": "stream",
     "text": [
      "True\n"
     ]
    }
   ],
   "source": [
    "# guess missing chars in plaintext and verify with given hash\n",
    "string = \"A LONG TIME AGO IN A GALAXY FAR, FAR AWAY... IT IS A PERIOD OF CIVIL WAR. REBEL SPACESHIPS, STRIKING FROM A HIDDEN BASE, HAVE WON THEIR FIRST VICTORY AGAINST THE EVIL GALACTIC EMPIRE. DURING THE BATTLE, REBEL SPIES MANAGED TO STEAL SECRET PLANS TO THE EMPIRE'S ULTIMATE WEAPON, THE DEATH STAR, AN ARMORED SPACE STATION WITH ENOUGH POWER TO DESTROY AN ENTIRE PLANET. PURSUED BY THE EMPIRE'S SINISTER AGENTS, PRINCESS LEIA RACES HOME ABOARD HER STARSHIP, CUSTODIAN OF THE STOLEN PLANS THAT CAN SAVE HER PEOPLE AND RESTORE FREEDOM TO THE GALAXY.....\"\n",
    "import hashlib\n",
    "import base64\n",
    "s = string.encode()                 \n",
    "r = base64.b64encode(s)\n",
    "string_hash = hashlib.md5(r).hexdigest()\n",
    "print (Q3c_H==string_hash)"
   ]
  },
  {
   "cell_type": "markdown",
   "metadata": {},
   "source": [
    "## Part d"
   ]
  },
  {
   "cell_type": "code",
   "execution_count": 304,
   "metadata": {},
   "outputs": [],
   "source": [
    "Q3d_x0=\"OBI-WAN: IT'S OVER, ANAKIN! I HAVE THE HIGH GROUND! ANAKIN SKYWALKER: YOU UNDERESTIMATE MY POWER! OBI-WAN: DON'T TRY IT.\"\n",
    "Q3d_y0=\"A AX!V G!AX:XDFAAG' A DX!X V!AV:DDGDDF' VDGXA ADX AFFAXGA  DG:  FXG FXFV GDF XFF-AVG FVD GX GF XX:FAX:  GXF VDFD FFD XGF-AXF GGV FX FD VG:DAAGD,AVVVGXDFXDX !XADX'DD FGXGDDAFAFD-VF.DFD,AGGGFXXGDVX !VDVX'VX DVDFDXDGXFV-FD.XFFXA AAX DFVAAFA  F\"\n",
    "Q3d_y1=\"V GVVAVAXAVD AV D AXFXX FGGFFADAFA DF D AGDXVX DXGDFGVVX FFDGGVDDFDVAD GGXDFX .XGV G  GDFF.AXD G GFFAG GFX D DADAD FFGAVX .FFD V  VAGD.DXF F FGGAV XDV V VGAD V F FDVDVFFXDFGDGXGDADFFA A 'DDAAXGFXXG.VDX F D FAXDGGVDAXFDVGFVAAGXD D 'DVADDFGXDF.DX XVFFVVGDX GFAFVXAAV\"\n",
    "Q3d_S='\\x00\\x005J02\\x00\\x00\\x0081\\x00\\x00\\x00\\x00\\x00\\x004Q6\\x009\\x00\\x003\\x00\\x00\\x007\\x00M\\x00\\x00\\x00\\x00\\x00'\n",
    "Q3d_c=\"X\"\n",
    "Q3d_s=(5, 4, 8, 2, 7, 3, 6, 1, 11, 0, 10, 9)\n",
    "Q3d_H=\"97d50c18a9cedf33fd91a6efacbec7db\""
   ]
  },
  {
   "cell_type": "code",
   "execution_count": 305,
   "metadata": {},
   "outputs": [
    {
     "data": {
      "text/plain": [
       "'IL5J02OST81U*PYND4Q6E9HB3R*G7WMK**VA'"
      ]
     },
     "execution_count": 305,
     "metadata": {},
     "output_type": "execute_result"
    }
   ],
   "source": [
    "find_S(Q3d_x0,Q3d_y0,Q3d_S,Q3d_s,Q3d_c)"
   ]
  },
  {
   "cell_type": "code",
   "execution_count": 307,
   "metadata": {},
   "outputs": [
    {
     "data": {
      "text/plain": [
       "\"GOVERNOR TARKIN. I SHOULD HAVE E*PE*TED TO *IND YOU HOLDING VADER'S LEASH. I RE*OGNI*ED YOUR *OUL STEN*H WHEN I WAS BROUGHT ONBOARD.\""
      ]
     },
     "execution_count": 307,
     "metadata": {},
     "output_type": "execute_result"
    }
   ],
   "source": [
    "decrypt3c(Q3d_y1,'IL5J02OST81U*PYND4Q6E9HB3R*G7WMK**VA',Q3d_c,Q3d_s,len(Q3d_y1)//2)"
   ]
  },
  {
   "cell_type": "code",
   "execution_count": 311,
   "metadata": {},
   "outputs": [
    {
     "name": "stdout",
     "output_type": "stream",
     "text": [
      "True\n"
     ]
    }
   ],
   "source": [
    "string2 = \"GOVERNOR TARKIN. I SHOULD HAVE EXPECTED TO FIND YOU HOLDING VADER'S LEASH. I RECOGNIZED YOUR FOUL STENCH WHEN I WAS BROUGHT ONBOARD.\"\n",
    "import hashlib\n",
    "import base64\n",
    "s = string2.encode()                 \n",
    "r = base64.b64encode(s)\n",
    "string_hash = hashlib.md5(r).hexdigest()\n",
    "print (Q3d_H==string_hash)"
   ]
  },
  {
   "cell_type": "code",
   "execution_count": null,
   "metadata": {},
   "outputs": [],
   "source": []
  }
 ],
 "metadata": {
  "kernelspec": {
   "display_name": "SageMath 9.1",
   "language": "sage",
   "name": "sagemath"
  },
  "language_info": {
   "codemirror_mode": {
    "name": "ipython",
    "version": 3
   },
   "file_extension": ".py",
   "mimetype": "text/x-python",
   "name": "python",
   "nbconvert_exporter": "python",
   "pygments_lexer": "ipython3",
   "version": "3.7.3"
  }
 },
 "nbformat": 4,
 "nbformat_minor": 2
}
